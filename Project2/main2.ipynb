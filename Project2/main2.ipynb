{
 "cells": [
  {
   "cell_type": "code",
   "execution_count": 50,
   "metadata": {},
   "outputs": [],
   "source": [
    "from mpl_toolkits.mplot3d import Axes3D\n",
    "from sklearn.preprocessing import StandardScaler\n",
    "import seaborn as sns\n",
    "import matplotlib.pyplot as plt\n",
    "import numpy as np\n",
    "import pandas as pd"
   ]
  },
  {
   "cell_type": "markdown",
   "metadata": {},
   "source": [
    "# Importing data"
   ]
  },
  {
   "cell_type": "code",
   "execution_count": 51,
   "metadata": {},
   "outputs": [
    {
     "data": {
      "text/html": [
       "<div>\n",
       "<style scoped>\n",
       "    .dataframe tbody tr th:only-of-type {\n",
       "        vertical-align: middle;\n",
       "    }\n",
       "\n",
       "    .dataframe tbody tr th {\n",
       "        vertical-align: top;\n",
       "    }\n",
       "\n",
       "    .dataframe thead th {\n",
       "        text-align: right;\n",
       "    }\n",
       "</style>\n",
       "<table border=\"1\" class=\"dataframe\">\n",
       "  <thead>\n",
       "    <tr style=\"text-align: right;\">\n",
       "      <th></th>\n",
       "      <th>sbp</th>\n",
       "      <th>tobacco</th>\n",
       "      <th>ldl</th>\n",
       "      <th>adiposity</th>\n",
       "      <th>famhist</th>\n",
       "      <th>typea</th>\n",
       "      <th>obesity</th>\n",
       "      <th>alcohol</th>\n",
       "      <th>age</th>\n",
       "      <th>chd</th>\n",
       "    </tr>\n",
       "  </thead>\n",
       "  <tbody>\n",
       "    <tr>\n",
       "      <th>0</th>\n",
       "      <td>160</td>\n",
       "      <td>12.00</td>\n",
       "      <td>5.73</td>\n",
       "      <td>23.11</td>\n",
       "      <td>1</td>\n",
       "      <td>49</td>\n",
       "      <td>25.30</td>\n",
       "      <td>97.20</td>\n",
       "      <td>52</td>\n",
       "      <td>1</td>\n",
       "    </tr>\n",
       "    <tr>\n",
       "      <th>1</th>\n",
       "      <td>144</td>\n",
       "      <td>0.01</td>\n",
       "      <td>4.41</td>\n",
       "      <td>28.61</td>\n",
       "      <td>0</td>\n",
       "      <td>55</td>\n",
       "      <td>28.87</td>\n",
       "      <td>2.06</td>\n",
       "      <td>63</td>\n",
       "      <td>1</td>\n",
       "    </tr>\n",
       "    <tr>\n",
       "      <th>2</th>\n",
       "      <td>118</td>\n",
       "      <td>0.08</td>\n",
       "      <td>3.48</td>\n",
       "      <td>32.28</td>\n",
       "      <td>1</td>\n",
       "      <td>52</td>\n",
       "      <td>29.14</td>\n",
       "      <td>3.81</td>\n",
       "      <td>46</td>\n",
       "      <td>0</td>\n",
       "    </tr>\n",
       "    <tr>\n",
       "      <th>3</th>\n",
       "      <td>170</td>\n",
       "      <td>7.50</td>\n",
       "      <td>6.41</td>\n",
       "      <td>38.03</td>\n",
       "      <td>1</td>\n",
       "      <td>51</td>\n",
       "      <td>31.99</td>\n",
       "      <td>24.26</td>\n",
       "      <td>58</td>\n",
       "      <td>1</td>\n",
       "    </tr>\n",
       "    <tr>\n",
       "      <th>4</th>\n",
       "      <td>134</td>\n",
       "      <td>13.60</td>\n",
       "      <td>3.50</td>\n",
       "      <td>27.78</td>\n",
       "      <td>1</td>\n",
       "      <td>60</td>\n",
       "      <td>25.99</td>\n",
       "      <td>57.34</td>\n",
       "      <td>49</td>\n",
       "      <td>1</td>\n",
       "    </tr>\n",
       "  </tbody>\n",
       "</table>\n",
       "</div>"
      ],
      "text/plain": [
       "   sbp  tobacco   ldl  adiposity  famhist  typea  obesity  alcohol  age  chd\n",
       "0  160    12.00  5.73      23.11        1     49    25.30    97.20   52    1\n",
       "1  144     0.01  4.41      28.61        0     55    28.87     2.06   63    1\n",
       "2  118     0.08  3.48      32.28        1     52    29.14     3.81   46    0\n",
       "3  170     7.50  6.41      38.03        1     51    31.99    24.26   58    1\n",
       "4  134    13.60  3.50      27.78        1     60    25.99    57.34   49    1"
      ]
     },
     "execution_count": 51,
     "metadata": {},
     "output_type": "execute_result"
    }
   ],
   "source": [
    "df = pd.read_csv('data.csv')\n",
    "df = df.drop('row.names',axis=1)\n",
    "df['famhist'] = df['famhist'].replace({'Present': 1, 'Absent': 0})\n",
    "df.head()"
   ]
  },
  {
   "cell_type": "markdown",
   "metadata": {},
   "source": [
    "# Linear Regression"
   ]
  },
  {
   "cell_type": "markdown",
   "metadata": {},
   "source": [
    "### 1)\n",
    "Explain what variable is predicted based on which other variables and what\n",
    "you hope to accomplish by the regression. Mention your feature transformation\n",
    "choices such as one-of-K coding. Since we will use regularization momentarily,\n",
    "apply a feature transformation to your data matrix X such that each column\n",
    "has mean 0 and standard deviation 1."
   ]
  },
  {
   "cell_type": "code",
   "execution_count": 52,
   "metadata": {},
   "outputs": [
    {
     "data": {
      "text/html": [
       "<div>\n",
       "<style scoped>\n",
       "    .dataframe tbody tr th:only-of-type {\n",
       "        vertical-align: middle;\n",
       "    }\n",
       "\n",
       "    .dataframe tbody tr th {\n",
       "        vertical-align: top;\n",
       "    }\n",
       "\n",
       "    .dataframe thead th {\n",
       "        text-align: right;\n",
       "    }\n",
       "</style>\n",
       "<table border=\"1\" class=\"dataframe\">\n",
       "  <thead>\n",
       "    <tr style=\"text-align: right;\">\n",
       "      <th></th>\n",
       "      <th>tobacco</th>\n",
       "      <th>ldl</th>\n",
       "      <th>adiposity</th>\n",
       "      <th>famhist</th>\n",
       "      <th>typea</th>\n",
       "      <th>obesity</th>\n",
       "      <th>alcohol</th>\n",
       "      <th>age</th>\n",
       "      <th>chd</th>\n",
       "    </tr>\n",
       "  </thead>\n",
       "  <tbody>\n",
       "    <tr>\n",
       "      <th>0</th>\n",
       "      <td>1.823073</td>\n",
       "      <td>0.478412</td>\n",
       "      <td>-0.295503</td>\n",
       "      <td>1.185854</td>\n",
       "      <td>-0.418470</td>\n",
       "      <td>-0.176786</td>\n",
       "      <td>3.277738</td>\n",
       "      <td>0.629336</td>\n",
       "      <td>1.373863</td>\n",
       "    </tr>\n",
       "    <tr>\n",
       "      <th>1</th>\n",
       "      <td>-0.790237</td>\n",
       "      <td>-0.159680</td>\n",
       "      <td>0.412140</td>\n",
       "      <td>-0.843274</td>\n",
       "      <td>0.193344</td>\n",
       "      <td>0.671373</td>\n",
       "      <td>-0.612745</td>\n",
       "      <td>1.383115</td>\n",
       "      <td>1.373863</td>\n",
       "    </tr>\n",
       "    <tr>\n",
       "      <th>2</th>\n",
       "      <td>-0.774980</td>\n",
       "      <td>-0.609245</td>\n",
       "      <td>0.884332</td>\n",
       "      <td>1.185854</td>\n",
       "      <td>-0.112563</td>\n",
       "      <td>0.735519</td>\n",
       "      <td>-0.541183</td>\n",
       "      <td>0.218184</td>\n",
       "      <td>-0.727875</td>\n",
       "    </tr>\n",
       "    <tr>\n",
       "      <th>3</th>\n",
       "      <td>0.842264</td>\n",
       "      <td>0.807126</td>\n",
       "      <td>1.624141</td>\n",
       "      <td>1.185854</td>\n",
       "      <td>-0.214532</td>\n",
       "      <td>1.412621</td>\n",
       "      <td>0.295062</td>\n",
       "      <td>1.040488</td>\n",
       "      <td>1.373863</td>\n",
       "    </tr>\n",
       "    <tr>\n",
       "      <th>4</th>\n",
       "      <td>2.171805</td>\n",
       "      <td>-0.599577</td>\n",
       "      <td>0.305351</td>\n",
       "      <td>1.185854</td>\n",
       "      <td>0.703189</td>\n",
       "      <td>-0.012856</td>\n",
       "      <td>1.647775</td>\n",
       "      <td>0.423760</td>\n",
       "      <td>1.373863</td>\n",
       "    </tr>\n",
       "  </tbody>\n",
       "</table>\n",
       "</div>"
      ],
      "text/plain": [
       "    tobacco       ldl  adiposity   famhist     typea   obesity   alcohol  \\\n",
       "0  1.823073  0.478412  -0.295503  1.185854 -0.418470 -0.176786  3.277738   \n",
       "1 -0.790237 -0.159680   0.412140 -0.843274  0.193344  0.671373 -0.612745   \n",
       "2 -0.774980 -0.609245   0.884332  1.185854 -0.112563  0.735519 -0.541183   \n",
       "3  0.842264  0.807126   1.624141  1.185854 -0.214532  1.412621  0.295062   \n",
       "4  2.171805 -0.599577   0.305351  1.185854  0.703189 -0.012856  1.647775   \n",
       "\n",
       "        age       chd  \n",
       "0  0.629336  1.373863  \n",
       "1  1.383115  1.373863  \n",
       "2  0.218184 -0.727875  \n",
       "3  1.040488  1.373863  \n",
       "4  0.423760  1.373863  "
      ]
     },
     "execution_count": 52,
     "metadata": {},
     "output_type": "execute_result"
    }
   ],
   "source": [
    "target_variable = 'sbp'\n",
    "features = df.drop(columns=[target_variable]).columns\n",
    "\n",
    "# Prepare the feature matrix X and the target vector y\n",
    "X = df[features]\n",
    "y = df[target_variable]\n",
    "\n",
    "# We have used one-of-K coding for feature transformation by substituting famhist = present or absent by 1 or 0, respectively\n",
    "\n",
    "# Feature scaling so that each feature column has mean = 0 and standard deviation = 1\n",
    "scaler = StandardScaler()\n",
    "X_scaled = scaler.fit_transform(X)\n",
    "X_scaled_df = pd.DataFrame(X_scaled, columns=features)\n",
    "X_scaled_df.head()"
   ]
  },
  {
   "cell_type": "markdown",
   "metadata": {},
   "source": [
    "### 2)\n",
    "\n",
    "Introduce a regularization parameter λ as discussed in chapter 14 of the lecture\n",
    "notes, and estimate the generalization error for different values of λ. Specifically, choose a reasonable range of values of λ (ideally one where the generalization error first drop and then increases), and for each value use K = 10 fold\n",
    "cross-validation (algorithm 5) to estimate the generalization error.\n",
    "Include a figure of the estimated generalization error as a function of λ in the\n",
    "report and briefly discuss the result."
   ]
  },
  {
   "cell_type": "code",
   "execution_count": 53,
   "metadata": {},
   "outputs": [
    {
     "data": {
      "image/png": "[encoded data removed]",
      "text/plain": [
       "<Figure size 1000x600 with 1 Axes>"
      ]
     },
     "metadata": {},
     "output_type": "display_data"
    },
    {
     "name": "stdout",
     "output_type": "stream",
     "text": [
      "The optimal value of lambda is: 210.49041445120199\n"
     ]
    }
   ],
   "source": [
    "import numpy as np\n",
    "from sklearn.linear_model import Ridge\n",
    "from sklearn.model_selection import cross_val_score\n",
    "\n",
    "# Set the range of lambda (alpha in scikit-learn) to test\n",
    "# np.logspace returns numbers spaced evenly on a log scale, starts at 10^-4, ends at 10^4, and generates 100 points\n",
    "lambda_range = np.logspace(-1, 6, 100)\n",
    "\n",
    "# Placeholder for cross-validation scores\n",
    "cross_val_scores_mean = []\n",
    "cross_val_scores_std = []\n",
    "\n",
    "# Perform 10-fold cross-validation for each value of lambda (alpha)\n",
    "for lambda_value in lambda_range:\n",
    "    ridge_model = Ridge(alpha=lambda_value)\n",
    "    # Scoring negative mean squared error to use as a loss function where lower values are better\n",
    "    scores = cross_val_score(ridge_model, X_scaled_df, y, cv=10, scoring='neg_mean_squared_error')\n",
    "    \n",
    "    cross_val_scores_mean.append(-np.mean(scores))  # Convert to positive mean squared error\n",
    "    cross_val_scores_std.append(np.std(scores))\n",
    "\n",
    "# Convert to numpy arrays for plotting\n",
    "cross_val_scores_mean = np.array(cross_val_scores_mean)\n",
    "cross_val_scores_std = np.array(cross_val_scores_std)\n",
    "\n",
    "optimal_lambda_index = np.argmin(cross_val_scores_mean)\n",
    "optimal_lambda = lambda_range[optimal_lambda_index]\n",
    "\n",
    "# Plot the mean cross-validation scores against the lambda values\n",
    "import matplotlib.pyplot as plt\n",
    "\n",
    "plt.figure(figsize=(10, 6))\n",
    "plt.semilogx(lambda_range, cross_val_scores_mean, label='Mean Cross-Validation Error')\n",
    "plt.fill_between(lambda_range, cross_val_scores_mean - cross_val_scores_std, \n",
    "                 cross_val_scores_mean + cross_val_scores_std, alpha=0.1)\n",
    "plt.scatter(optimal_lambda, np.min(cross_val_scores_mean), color='red', zorder=5, label='Optimal Lambda')\n",
    "plt.xlabel('Lambda (Regularization parameter)')\n",
    "plt.ylabel('Mean Squared Error')\n",
    "plt.title('Cross-Validation Error as a function of Lambda')\n",
    "plt.legend()\n",
    "plt.show()\n",
    "\n",
    "print(f\"The optimal value of lambda is: {optimal_lambda}\")\n",
    "\n"
   ]
  },
  {
   "cell_type": "markdown",
   "metadata": {},
   "source": [
    "### 3)\n",
    "\n",
    "Explain how the output, y, of the linear model with the lowest generalization\n",
    "error (as determined in the previous question) is computed for a given input\n",
    "x. What is the effect of an individual attribute in x on the output, y, of the\n",
    "linear model? Does the effect of individual attributes make sense based on your\n",
    "understanding of the problem?"
   ]
  },
  {
   "cell_type": "code",
   "execution_count": 54,
   "metadata": {},
   "outputs": [
    {
     "name": "stdout",
     "output_type": "stream",
     "text": [
      "The optimal intercept is 138.3268\n",
      "The optimal coefficient of tobacco is 0.8977\n",
      "The optimal coefficient of ldl is 0.2503\n",
      "The optimal coefficient of adiposity is 2.3473\n",
      "The optimal coefficient of famhist is -0.1041\n",
      "The optimal coefficient of typea is -0.6703\n",
      "The optimal coefficient of obesity is 1.2831\n",
      "The optimal coefficient of alcohol is 1.3813\n",
      "The optimal coefficient of age is 3.4630\n",
      "The optimal coefficient of chd is 1.0978\n"
     ]
    }
   ],
   "source": [
    "# Train Ridge model with the optimal lambda\n",
    "optimal_ridge_model = Ridge(alpha=optimal_lambda)\n",
    "optimal_ridge_model.fit(X_scaled_df, y)\n",
    "\n",
    "# Obtain the coefficients and the intercept\n",
    "optimal_coefficients = optimal_ridge_model.coef_\n",
    "optimal_intercept = optimal_ridge_model.intercept_\n",
    "\n",
    "# Print the intercept\n",
    "print(f\"The optimal intercept is {optimal_intercept:.4f}\")\n",
    "\n",
    "# Print each feature with its corresponding coefficient\n",
    "for feature, coef in zip(features, optimal_coefficients):\n",
    "    print(f\"The optimal coefficient of {feature} is {coef:.4f}\")"
   ]
  },
  {
   "cell_type": "code",
   "execution_count": 62,
   "metadata": {},
   "outputs": [
    {
     "data": {
      "text/latex": [
       "$$ sbp = 138.3268\\newline + 0.8977 \\cdot \\text{tobacco}\\newline + 0.2503 \\cdot \\text{ldl}\\newline + 2.3473 \\cdot \\text{adiposity}\\newline -0.1041 \\cdot \\text{famhist}\\newline -0.6703 \\cdot \\text{typea}\\newline + 1.2831 \\cdot \\text{obesity}\\newline + 1.3813 \\cdot \\text{alcohol}\\newline + 3.4630 \\cdot \\text{age}\\newline + 1.0978 \\cdot \\text{chd} $$"
      ],
      "text/plain": [
       "<IPython.core.display.Latex object>"
      ]
     },
     "metadata": {},
     "output_type": "display_data"
    }
   ],
   "source": [
    "from IPython.display import display, Latex\n",
    "\n",
    "# Prepare the LaTeX string for the model equation, replacing 'y' with the target variable name\n",
    "model_equation = '{} = {:.4f}'.format(target_variable, optimal_intercept)\n",
    "for feature, coef in zip(features, optimal_coefficients):\n",
    "    if coef >= 0:  # for positive coefficients, add a plus sign\n",
    "        model_equation += '\\\\newline + {:.4f} \\\\cdot \\\\text{{{}}}'.format(coef, feature)\n",
    "    else:  # for negative coefficients, the minus sign is already included\n",
    "        model_equation += '\\\\newline {:.4f} \\\\cdot \\\\text{{{}}}'.format(coef, feature)\n",
    "\n",
    "# LaTeX for newline is '\\\\', but we don't typically put newlines in equations\n",
    "# If you want to break the line after a certain number of features, you can use '\\\\\\\\' in LaTeX\n",
    "\n",
    "# Convert the string to a Latex object for pretty printing\n",
    "model_equation_latex = f\"$$ {model_equation} $$\"\n",
    "\n",
    "# Display the equation using LaTeX\n",
    "display(Latex(model_equation_latex))\n"
   ]
  }
 ],
 "metadata": {
  "kernelspec": {
   "display_name": "Python 3",
   "language": "python",
   "name": "python3"
  },
  "language_info": {
   "codemirror_mode": {
    "name": "ipython",
    "version": 3
   },
   "file_extension": ".py",
   "mimetype": "text/x-python",
   "name": "python",
   "nbconvert_exporter": "python",
   "pygments_lexer": "ipython3",
   "version": "3.11.3"
  }
 },
 "nbformat": 4,
 "nbformat_minor": 2
}
